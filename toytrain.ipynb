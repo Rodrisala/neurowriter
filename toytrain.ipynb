{
 "cells": [
  {
   "cell_type": "markdown",
   "metadata": {},
   "source": [
    "# Toy training of text generation models"
   ]
  },
  {
   "cell_type": "code",
   "execution_count": null,
   "metadata": {
    "collapsed": false
   },
   "outputs": [],
   "source": [
    "%matplotlib inline"
   ]
  },
  {
   "cell_type": "markdown",
   "metadata": {},
   "source": [
    "## Global config"
   ]
  },
  {
   "cell_type": "markdown",
   "metadata": {},
   "source": [
    "Name of corpus file with extension"
   ]
  },
  {
   "cell_type": "code",
   "execution_count": null,
   "metadata": {
    "collapsed": true
   },
   "outputs": [],
   "source": [
    "corpusname = \"chupitos_bpe.json\""
   ]
  },
  {
   "cell_type": "markdown",
   "metadata": {},
   "source": [
    "Corpus loader method to use"
   ]
  },
  {
   "cell_type": "code",
   "execution_count": null,
   "metadata": {
    "collapsed": true
   },
   "outputs": [],
   "source": [
    "from neurowriter.corpus import Corpus\n",
    "\n",
    "corpusloader = Corpus.load_json"
   ]
  },
  {
   "cell_type": "markdown",
   "metadata": {},
   "source": [
    "Tokenizer object to use (can be None if text is already tokenized)"
   ]
  },
  {
   "cell_type": "code",
   "execution_count": null,
   "metadata": {
    "collapsed": false
   },
   "outputs": [],
   "source": [
    "from neurowriter.tokenizer import CharTokenizer, WordTokenizer, SubwordTokenizer\n",
    "\n",
    "tokenizer = None"
   ]
  },
  {
   "cell_type": "markdown",
   "metadata": {},
   "source": [
    "Network architecture class to use"
   ]
  },
  {
   "cell_type": "code",
   "execution_count": null,
   "metadata": {
    "collapsed": false
   },
   "outputs": [],
   "source": [
    "from neurowriter.models import DilatedConvModel, WavenetModel, LSTMModel\n",
    "\n",
    "architecture = LSTMModel"
   ]
  },
  {
   "cell_type": "markdown",
   "metadata": {},
   "source": [
    "Architecture parameters"
   ]
  },
  {
   "cell_type": "code",
   "execution_count": null,
   "metadata": {
    "collapsed": false
   },
   "outputs": [],
   "source": [
    "from keras.optimizers import Adam, RMSprop, Nadam\n",
    "\n",
    "# wavenet\n",
    "params = [\n",
    "    8, # kernels\n",
    "    1, # wavenetblocks\n",
    "    0.1, # dropout\n",
    "    32 #embedding\n",
    "]\n",
    "# dilatedconv\n",
    "params = [\n",
    "    1, # convlayers\n",
    "    8, # kernels\n",
    "    0.1, # convdrop\n",
    "    1, # denselayers\n",
    "    16, # dense units\n",
    "    0.1, # densedrop\n",
    "    32 # size of the embedding\n",
    "]\n",
    "# lstm\n",
    "params = [\n",
    "    1, #layers\n",
    "    16, #units\n",
    "    0, #dropout\n",
    "    32 #embedding\n",
    "]\n",
    "optparams = {\n",
    "    \"batchsize\" : 64,\n",
    "    \"inputtokens\" : 8,\n",
    "    \"learningrate\" : 0.001,\n",
    "    \"optimizerclass\" : Adam\n",
    "}"
   ]
  },
  {
   "cell_type": "markdown",
   "metadata": {},
   "source": [
    "### Process config"
   ]
  },
  {
   "cell_type": "markdown",
   "metadata": {},
   "source": [
    "Get all relevant file names"
   ]
  },
  {
   "cell_type": "code",
   "execution_count": null,
   "metadata": {
    "collapsed": false
   },
   "outputs": [],
   "source": [
    "corpusfile = 'corpus/' + corpusname\n",
    "encodername = corpusname + '.enc'\n",
    "modelname = corpusname + '.h5'"
   ]
  },
  {
   "cell_type": "markdown",
   "metadata": {},
   "source": [
    "## Load corpus"
   ]
  },
  {
   "cell_type": "code",
   "execution_count": null,
   "metadata": {
    "collapsed": false
   },
   "outputs": [],
   "source": [
    "corpus = corpusloader(corpusfile)"
   ]
  },
  {
   "cell_type": "code",
   "execution_count": null,
   "metadata": {
    "collapsed": false
   },
   "outputs": [],
   "source": [
    "corpus[0][0:1000]"
   ]
  },
  {
   "cell_type": "markdown",
   "metadata": {},
   "source": [
    "## Encoding"
   ]
  },
  {
   "cell_type": "code",
   "execution_count": null,
   "metadata": {
    "collapsed": false
   },
   "outputs": [],
   "source": [
    "%%time\n",
    "from neurowriter.encoding import Encoder\n",
    "encoder = Encoder(corpus, tokenizer)\n",
    "encoder.save(encodername)"
   ]
  },
  {
   "cell_type": "code",
   "execution_count": null,
   "metadata": {
    "collapsed": false,
    "scrolled": true
   },
   "outputs": [],
   "source": [
    "encoder.char2index"
   ]
  },
  {
   "cell_type": "markdown",
   "metadata": {},
   "source": [
    "## Model training"
   ]
  },
  {
   "cell_type": "markdown",
   "metadata": {},
   "source": [
    "Train the generator model, trying different hyperparameters and selecting the model producing lower loss in a  validation split of the data.\n",
    "\n",
    "Note this might take a very long time, so during the optimization temporary versions of the model will be saved."
   ]
  },
  {
   "cell_type": "code",
   "execution_count": null,
   "metadata": {
    "collapsed": false,
    "scrolled": false
   },
   "outputs": [],
   "source": [
    "%%time\n",
    "from neurowriter.optimizer import trainmodel\n",
    "\n",
    "model, train_history = trainmodel(architecture, encoder=encoder, corpus=corpus, verbose=2, maxepochs=1000, \n",
    "                                  modelparams=params, valmask=[False]*3+[True], patience=10, **optparams)\n",
    "model.save(modelname)"
   ]
  },
  {
   "cell_type": "code",
   "execution_count": null,
   "metadata": {
    "collapsed": false
   },
   "outputs": [],
   "source": [
    "bestloss = min(train_history.history['val_loss'])\n",
    "bestloss"
   ]
  },
  {
   "cell_type": "code",
   "execution_count": null,
   "metadata": {
    "collapsed": false
   },
   "outputs": [],
   "source": [
    "model.summary()"
   ]
  },
  {
   "cell_type": "markdown",
   "metadata": {},
   "source": [
    "## Generation test"
   ]
  },
  {
   "cell_type": "code",
   "execution_count": null,
   "metadata": {
    "collapsed": false,
    "scrolled": true
   },
   "outputs": [],
   "source": [
    "from neurowriter.writer import Writer\n",
    "from neurowriter.encoding import END\n",
    "\n",
    "writer = Writer(model, encoder, beamsize=1, batchsize=1, creativity=0.5)\n",
    "\n",
    "tokens = encoder.tokenizer.transform(\"\")\n",
    "seedtxt = \"\".join(tokens)\n",
    "print(\"Seed:\", seedtxt)\n",
    "print(\"Generated:\")\n",
    "print(seedtxt, end='')\n",
    "for token in writer.generate(seedtxt):\n",
    "    print(token, end='')\n",
    "    if token == END:\n",
    "        print('\\n')"
   ]
  },
  {
   "cell_type": "code",
   "execution_count": null,
   "metadata": {
    "collapsed": true
   },
   "outputs": [],
   "source": []
  }
 ],
 "metadata": {
  "kernelspec": {
   "display_name": "Python 3",
   "language": "python",
   "name": "python3"
  },
  "language_info": {
   "codemirror_mode": {
    "name": "ipython",
    "version": 3
   },
   "file_extension": ".py",
   "mimetype": "text/x-python",
   "name": "python",
   "nbconvert_exporter": "python",
   "pygments_lexer": "ipython3",
   "version": "3.6.0"
  }
 },
 "nbformat": 4,
 "nbformat_minor": 2
}
