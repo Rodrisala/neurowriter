{
 "cells": [
  {
   "cell_type": "markdown",
   "metadata": {},
   "source": [
    "# Training of text generation models"
   ]
  },
  {
   "cell_type": "code",
   "execution_count": 1,
   "metadata": {
    "collapsed": true
   },
   "outputs": [],
   "source": [
    "%matplotlib inline"
   ]
  },
  {
   "cell_type": "markdown",
   "metadata": {},
   "source": [
    "## Global config"
   ]
  },
  {
   "cell_type": "markdown",
   "metadata": {},
   "source": [
    "Name of corpus file (without txt extension)"
   ]
  },
  {
   "cell_type": "code",
   "execution_count": 2,
   "metadata": {
    "collapsed": true
   },
   "outputs": [],
   "source": [
    "corpusname = \"toyseries\""
   ]
  },
  {
   "cell_type": "markdown",
   "metadata": {},
   "source": [
    "Number of past input tokens to use for generation"
   ]
  },
  {
   "cell_type": "code",
   "execution_count": 3,
   "metadata": {
    "collapsed": true
   },
   "outputs": [],
   "source": [
    "inputtokens = 128"
   ]
  },
  {
   "cell_type": "markdown",
   "metadata": {},
   "source": [
    "Network architecture to use"
   ]
  },
  {
   "cell_type": "code",
   "execution_count": 4,
   "metadata": {
    "collapsed": true
   },
   "outputs": [],
   "source": [
    "architecture = \"dilatedconv\""
   ]
  },
  {
   "cell_type": "markdown",
   "metadata": {},
   "source": [
    "Number of hyperoptimization trials (recommended at least 15)"
   ]
  },
  {
   "cell_type": "code",
   "execution_count": 5,
   "metadata": {
    "collapsed": true
   },
   "outputs": [],
   "source": [
    "hypertrials = 15"
   ]
  },
  {
   "cell_type": "markdown",
   "metadata": {},
   "source": [
    "### Process config"
   ]
  },
  {
   "cell_type": "markdown",
   "metadata": {},
   "source": [
    "Get all relevant file names"
   ]
  },
  {
   "cell_type": "code",
   "execution_count": 6,
   "metadata": {
    "collapsed": true
   },
   "outputs": [],
   "source": [
    "corpusfile = 'corpus/' + corpusname + '.txt'\n",
    "encodername = corpusname + '.enc'\n",
    "modelname = corpusname + '.h5'"
   ]
  },
  {
   "cell_type": "markdown",
   "metadata": {},
   "source": [
    "Obtain model class"
   ]
  },
  {
   "cell_type": "code",
   "execution_count": 7,
   "metadata": {
    "collapsed": false
   },
   "outputs": [
    {
     "name": "stderr",
     "output_type": "stream",
     "text": [
      "Using TensorFlow backend.\n"
     ]
    }
   ],
   "source": [
    "from neurowriter.models import modelbyname\n",
    "modelclass = modelbyname(architecture)"
   ]
  },
  {
   "cell_type": "markdown",
   "metadata": {},
   "source": [
    "## Load corpus"
   ]
  },
  {
   "cell_type": "code",
   "execution_count": 8,
   "metadata": {
    "collapsed": true
   },
   "outputs": [],
   "source": [
    "with open(corpusfile) as f:\n",
    "    corpus = f.read()"
   ]
  },
  {
   "cell_type": "code",
   "execution_count": 9,
   "metadata": {
    "collapsed": false
   },
   "outputs": [
    {
     "data": {
      "text/plain": [
       "'AAAAABBBBB\\nAAAAABBBBB\\nAAAAABBBBB\\nAAAAABBBBB\\nAAAAABBBBB\\nAAAAABBBBB\\nAABBAABBAB\\nAAAAABBBBB\\nAAAAABBBBB\\nAAAAABBBBB\\nAAAAABBBBB\\nABABABABAB\\nAABBAABBAB\\nAAAAABBBBB\\nAAAAABBBBB\\nAAAAABBBBB\\nAAAAABBBBB\\nAAAAABBBBB\\nABABABABAB\\nAAAAABBBBB\\nAAAAABBBBB\\nAAAAABBBBB\\nAAAAABBBBB\\nAAAAABBBBB\\nAAAAABBBBB\\nAAAAABBBBB\\nAAAAABBBBB\\nAAAAABBBBB\\nABABABABAB\\nAABBAABBAB\\nAAAAABBBBB\\nAAAAABBBBB\\nAAAAABBBBB\\nAAAAABBBBB\\nAABBAABBAB\\nAAAAABBBBB\\nAAAAABBBBB\\nAAAAABBBBB\\nAAAAABBBBB\\nAAAAABBBBB\\nAAAAABBBBB\\nAABBAABBAB\\nAAAAABBBBB\\nAAAAABBBBB\\nAAAAABBBBB\\nAAAAABBBBB\\nAAAAABBBBB\\nAAAAABBBBB\\nAAAAABBBBB\\nAAAAABBBBB\\nAAAAABBBBB\\nAABBAABBAB\\nAAAAABBBBB\\nAAAAABBBBB\\nAAAAABBBBB\\nAAAAABBBBB\\nABABABABAB\\nAAAAABBBBB\\nAAAAABBBBB\\nABABABABAB\\nAAAAABBBBB\\nAAAAABBBBB\\nAAAAABBBBB\\nAAAAABBBBB\\nAAAAABBBBB\\nAAAAABBBBB\\nAAAAABBBBB\\nAAAAABBBBB\\nAAAAABBBBB\\nAAAAABBBBB\\nAABBAABBAB\\nAAAAABBBBB\\nAAAAABBBBB\\nAAAAABBBBB\\nAAAAABBBBB\\nAAAAABBBBB\\nAAAAABBBBB\\nAAAAABBBBB\\nAAAAABBBBB\\nAAAAABBBBB\\nAAAAABBBBB\\nAAAAABBBBB\\nAAAAABBBBB\\nAAAAABBBBB\\nAAAAABBBBB\\nAAAAABBBBB\\nAAAAABBBBB\\nAAAAABBBBB\\nAABBAABBAB\\nAAAAABBBBB\\nAAAAABBBBB'"
      ]
     },
     "execution_count": 9,
     "metadata": {},
     "output_type": "execute_result"
    }
   ],
   "source": [
    "corpus[0:min(1000,len(corpus))]"
   ]
  },
  {
   "cell_type": "markdown",
   "metadata": {},
   "source": [
    "## Encoding"
   ]
  },
  {
   "cell_type": "code",
   "execution_count": 10,
   "metadata": {
    "collapsed": false
   },
   "outputs": [
    {
     "name": "stdout",
     "output_type": "stream",
     "text": [
      "Encoder not found, creating new encoder: [Errno 2] No such file or directory: 'toyseries.enc'\n",
      "Total chars: 6\n"
     ]
    }
   ],
   "source": [
    "from neurowriter.encoding import Encoder, loadencoding\n",
    "try:\n",
    "    encoder = loadencoding(encodername)\n",
    "    print(\"Loaded encoder\", encodername)\n",
    "except Exception as e:\n",
    "    print(\"Encoder not found, creating new encoder:\", e)\n",
    "    encoder = Encoder(corpus)\n",
    "    encoder.save(encodername)"
   ]
  },
  {
   "cell_type": "markdown",
   "metadata": {},
   "source": [
    "## Model training"
   ]
  },
  {
   "cell_type": "code",
   "execution_count": 11,
   "metadata": {
    "collapsed": false
   },
   "outputs": [
    {
     "name": "stdout",
     "output_type": "stream",
     "text": [
      "Params: [4, 32, 0.60276337607164387, 2, 64, 0.64589411306665612, 'rmsprop'] , loss:  0.209653802216\n",
      "Params: [5, 64, 0.38344151882577771, 3, 64, 0.56804456109393231, 'adam'] , loss:  0.329597368836\n",
      "Params: [2, 4, 0.020218397440325719, 3, 128, 0.87001214824681916, 'adam'] , loss:  0.314379051328\n",
      "Params: [5, 16, 0.78052917628645546, 0, 128, 0.1433532874090464, 'adam'] , loss:  1.00247073174\n",
      "Params: [4, 16, 0.26455561210462697, 3, 64, 0.56843394886864851, 'sgd'] , loss:  0.96735522151\n",
      "Params: [4, 32, 0.61693399687475692, 3, 128, 0.35950790057378601, 'rmsprop'] , loss:  0.212316252291\n",
      "Params: [4, 4, 0.66676671544566768, 2, 32, 0.12892629765485331, 'sgd'] , loss:  0.951442688704\n",
      "Params: [3, 16, 0.43860151346232035, 3, 16, 0.20887675609483469, 'sgd'] , loss:  0.983690202236\n",
      "Params: [4, 8, 0.46631077285630629, 0, 16, 0.11037514116430513, 'rmsprop'] , loss:  0.403926670551\n",
      "Params: [2, 4, 0.36872517066096411, 3, 16, 0.8379449074988039, 'sgd'] , loss:  1.03305906057\n",
      "Params: [5, 32, 0.52492045521687136, 2, 16, 0.38396026096984226, 'rmsprop'] , loss:  0.591646492481\n",
      "Params: [4, 32, 0.68680354326712334, 0, 128, 0.59913426508325263, 'rmsprop'] , loss:  0.28415606916\n",
      "Params: [4, 32, 0.57612436943154655, 2, 128, 0.29558959235089277, 'rmsprop'] , loss:  0.206785082817\n",
      "Params: [4, 32, 0.34922739571648287, 2, 64, 0.63655341980569524, 'rmsprop'] , loss:  0.214961193502\n",
      "Params: [3, 32, 0.59773023534596559, 2, 32, 0.27573126625995326, 'rmsprop'] , loss:  0.248852066696\n",
      "Best parameters are [4, 32, 0.57612436943154655, 2, 128, 0.29558959235089277, 'rmsprop']\n"
     ]
    },
    {
     "data": {
      "image/png": "[encoded data removed]",
      "text/plain": [
       "<matplotlib.figure.Figure at 0x7fd77a1bd9e8>"
      ]
     },
     "metadata": {},
     "output_type": "display_data"
    }
   ],
   "source": [
    "from neurowriter.optimizer import hypertrain\n",
    "\n",
    "model, train_history = hypertrain(modelclass, inputtokens, encoder, corpus, n_calls=hypertrials)\n",
    "model.save(modelname)"
   ]
  },
  {
   "cell_type": "markdown",
   "metadata": {},
   "source": [
    "## Generation test"
   ]
  },
  {
   "cell_type": "code",
   "execution_count": 12,
   "metadata": {
    "collapsed": false
   },
   "outputs": [
    {
     "name": "stdout",
     "output_type": "stream",
     "text": [
      "AAAAABBBBB\n",
      "AAAAABBBBB\n",
      "AAAAABBBBB\n",
      "AAAAABBBBB\n",
      "AAAAABBBBB\n",
      "AAAAABBBBB\n",
      "AABBAABBAB\n",
      "AAAAABBBBB\n",
      "AAAAABBBBB\n",
      "AAAAABBBBB\n",
      "AAAAABBBBB\n",
      "ABABABA\n"
     ]
    },
    {
     "data": {
      "text/plain": [
       "'BBB\\nAAAAABBBBB\\nAAAAABBBBB\\nAAAAABBBBB\\nAAAAABBBBB\\nAAAAABBBBB\\nAAAAABBBBB\\nAAAAABBBBB\\nAAAAABBBBB\\nAAAAABBBBB\\nAAAAABBBBB\\nAAAAABBBBB\\nAAAAABBBBB\\nAAAAABBBBB\\nAAAAABBBBB\\nAAAAABBBBB\\nAAAAABBBBB\\nAAAAABBBBB\\nAAAAABBBBB\\nAAAAABBBBB\\nAAAAABBBBB\\nAAAAABBBBB\\nAAAAABBBBB\\nAAAAABBBBB\\nAAAAABBBBB\\nAAAAABBBBB\\nAAAAABBBBB\\nAAAAABBBBB\\nAAAAABBBBB\\nAAAAABBBBB\\nAAAAABBBBB\\nAAAAABBBBB\\nAAAAABBBBB\\nAAAAABBBBB\\nAAAAABBBBB\\nAAAAABBBBB\\nAAAAABBBBB\\nAAAAABBBBB\\nAAAAABBBBB\\nAAAAABBBBB\\nAAAAABBBBB\\nAAAAABBBBB\\nAAAAABBBBB\\nAAAAABBBBB\\nAAAAABBBBB\\nAAAAABBBBB\\nAAAAABBBBB\\nAAAAABBBBB\\nAAAAABBBBB\\nAAAAABBBBB\\nAAAAABBBBB\\nAAAAABBBBB\\nAAAAABBBBB\\nAAAAABBBBB\\nAAAAABBBBB\\nAAAAABBBBB\\nAAAAABBBBB\\nAAAAABBBBB\\nAAAAABBBBB\\nAAAAABBBBB\\nAAAAABBBBB\\nAAAAABBBBB\\nAAAAABBBBB\\nAAAAABBBBB\\nAAAAABBBBB\\nAAAAABBBBB\\nAAAAABBBBB\\nAAAAABBBBB\\nAAAAABBBBB\\nAAAAABBBBB\\nAAAAABBBBB\\nAAAAABBBBB\\nAAAAABBBBB\\nAAAAABBBBB\\nAAAAABBBBB\\nAAAAABBBBB\\nAAAAABBBBB\\nAAAAABBBBB\\nAAAAABBBBB\\nAAAAABBBBB\\nAAAAABBBBB\\nAAAAABBBBB\\nAAAAABBBBB\\nAAAAABBBBB\\nAAAAABBBBB\\nAAAAABBBBB\\nAAAAABBBBB\\nAAAAABBBBB\\nAAAAABBBBB\\nAAAAABBBBB\\nAAAAABBBBB\\nAAAAAB'"
      ]
     },
     "execution_count": 12,
     "metadata": {},
     "output_type": "execute_result"
    }
   ],
   "source": [
    "from neurowriter.writer import Writer\n",
    "\n",
    "writer = Writer(model, encoder, creativity=0.1)\n",
    "print(corpus[:inputtokens])\n",
    "''.join(writer.write(seed=corpus[:inputtokens]))"
   ]
  },
  {
   "cell_type": "markdown",
   "metadata": {
    "collapsed": true
   },
   "source": [
    "### Manual test generation test with 0 creativity"
   ]
  },
  {
   "cell_type": "code",
   "execution_count": 13,
   "metadata": {
    "collapsed": false
   },
   "outputs": [
    {
     "name": "stdout",
     "output_type": "stream",
     "text": [
      "Seed: AAAAABBBBB\n",
      "AAAAABBBBB\n",
      "AAAAABBBBB\n",
      "AAAAABBBBB\n",
      "AAAAABBBBB\n",
      "AAAAABBBBB\n",
      "AABBAABBAB\n",
      "AAAAABBBBB\n",
      "AAAAABBBBB\n",
      "AAAAABBBBB\n",
      "AAAAABBBBB\n",
      "ABABABA\n",
      "Generated\n",
      "AAAAABBBBB\n",
      "AAAAABBBBB\n",
      "AAAAABBBBB\n",
      "AAAAABBBBB\n",
      "AAAAABBBBB\n",
      "AAAAABBBBB\n",
      "AABBAABBAB\n",
      "AAAAABBBBB\n",
      "AAAAABBBBB\n",
      "AAAAABBBBB\n",
      "AAAAABBBBB\n",
      "ABABABABBB\n",
      "AAAAABBBBB\n",
      "AAAAABBBBB\n",
      "AAAAABBBBB\n",
      "AAAAABBBBB\n",
      "AAAAABBBBB\n",
      "AAAAABBBBB\n",
      "AAAAABBBBB\n",
      "AAAAABBBBB\n",
      "AAAAABBBBB\n",
      "AAAAABBBBB\n",
      "AAAAABBBBB\n",
      "AAAAABBBBB\n",
      "AAAAABBBBB\n",
      "AAAAABBBBB\n",
      "AAAAABBBBB\n",
      "AAAAABBBBB\n",
      "AAAAABBBBB\n",
      "AAAAABBBBB\n",
      "AAAAABBBBB\n",
      "AAAAABBBBB\n",
      "AAAAABBBBB\n",
      "AAAAABBBBB\n",
      "AAAAABBBBB\n",
      "AAAAABBBBB\n",
      "AAAAABBBBB\n",
      "AAAAABBBBB\n",
      "AAAAABBBBB\n",
      "AAAAABBBBB\n",
      "AAAAABBBBB\n",
      "AAAAABBBBB\n",
      "AAAAABBBBB\n",
      "AAAAABBBBB\n",
      "AAAAABBBBB\n",
      "AAAAABBBBB\n",
      "AAAAABBBBB\n",
      "AAAAABBBBB\n",
      "AAAAABBBBB\n",
      "AAAAABBBBB\n",
      "AAAAABBBBB\n",
      "AAAAABBBBB\n",
      "AAAAABBBBB\n",
      "AAAAABBBBB\n",
      "AAAAABBBBB\n",
      "AAAAABBBBB\n",
      "AAAAABBBBB\n",
      "AAAAABBBBB\n",
      "AAAAABBBBB\n",
      "AAAAABBBBB\n",
      "AAAAABBBBB\n",
      "AAAAABBBBB\n",
      "AAAAABBBBB\n",
      "AAAAABBBBB\n",
      "AAAAABBBBB\n",
      "AAAAABBBBB\n",
      "AAAAABBBBB\n",
      "AAAAABBBBB\n",
      "AAAAABBBBB\n",
      "AAAAABBBBB\n",
      "AAAAABBBBB\n",
      "AAAAABBBBB\n",
      "AAAAABBBBB\n",
      "AAAAABBBBB\n",
      "AAAAABBBBB\n",
      "AAAAABBBBB\n",
      "AAAAABBBBB\n",
      "AAAAABBBBB\n",
      "AAAAABBBBB\n",
      "AAAAABBBBB\n",
      "AAAAABBBBB\n",
      "AAAAABBBBB\n",
      "AAAAABBBBB\n",
      "AAAAABBBBB\n",
      "AAAAABBBBB\n",
      "AAAAABBBBB\n",
      "AAAAABBBBB\n",
      "AAAAABBBBB\n",
      "AAAAABBBBB\n",
      "AAAAABBBBB\n",
      "AAAAABBBBB\n",
      "AAAAABBBBB\n",
      "AAAAABBBBB\n",
      "AAAAABBBBB\n",
      "AAAAABBBBB\n",
      "AAAAABBBBB\n",
      "AAAAABBBBB\n",
      "AAAAABBBBB\n",
      "AAAAABBBBB\n",
      "AAAAABBBBB\n",
      "AAAAABBBBB\n",
      "AAAAABBBBB\n",
      "AAAAAB"
     ]
    }
   ],
   "source": [
    "import numpy as np\n",
    "seed = corpus[:inputtokens]\n",
    "print(\"Seed:\", seed)\n",
    "print(\"Generated\")\n",
    "print(seed, end='')\n",
    "for i in range(1000):\n",
    "    seedcoded = encoder.encodetext(seed)\n",
    "    #cls = model.predict_classes(np.array([seedcoded]), verbose=0)\n",
    "    #char = encoder.index2char[cls[0]]\n",
    "    cls = np.argmax(model.predict(np.array([seedcoded])))\n",
    "    char = encoder.index2char[cls]\n",
    "    print(char, end='')\n",
    "    seed = seed[1:] + char"
   ]
  },
  {
   "cell_type": "markdown",
   "metadata": {
    "collapsed": true
   },
   "source": [
    "## Possible improvements"
   ]
  },
  {
   "cell_type": "markdown",
   "metadata": {},
   "source": [
    "* Try training with SGD and the full pecera corpus for a large number of iterations\n",
    "\n",
    "From Facebook's convolutional translation paper\n",
    "* Tokens are dealt with embeddings instead of one-hot encoder.\n",
    "* The position of each token is also added as a parallel embedding\n",
    "* Dropout for the embeddings and for the input of each convolutional block"
   ]
  },
  {
   "cell_type": "markdown",
   "metadata": {},
   "source": [
    "## References"
   ]
  },
  {
   "cell_type": "markdown",
   "metadata": {},
   "source": [
    "* WaveNet paper: https://arxiv.org/pdf/1609.03499.pdf\n",
    "* A Keras implementation of WaveNet: https://github.com/usernaamee/keras-wavenet/blob/master/simple-generative-model.py\n",
    "* Another one: https://github.com/basveeling/wavenet/blob/master/wavenet.py\n",
    "* Facebook's convolutional translation paper: https://arxiv.org/pdf/1705.03122.pdf"
   ]
  },
  {
   "cell_type": "markdown",
   "metadata": {
    "collapsed": true
   },
   "source": [
    "## Scrapyard"
   ]
  },
  {
   "cell_type": "markdown",
   "metadata": {},
   "source": [
    "def sampletext(logs):\n",
    "    \"\"\"Function that generates some sample text with the model.\n",
    "\n",
    "    Intented to be used as a keras callback\n",
    "    \"\"\"\n",
    "    writer = Writer(model, encoder, creativity=0.1)\n",
    "    print(corpus[:inputtokens])\n",
    "    print(''.join(writer.write(seed=corpus[:inputtokens])))\n",
    "\n",
    "# Build model with input parameters\n",
    "model = modelkind(inputtokens, encoder, *bestparams)\n",
    "# Prepare callbacks\n",
    "callbacks = [\n",
    "    LambdaCallback(on_train_end=sampletext),\n",
    "    ModelCheckpoint(filepath=modelname,save_best_only=True),\n",
    "    EarlyStopping(patience=patience)\n",
    "]\n",
    "# Train model\n",
    "model.fit_generator(\n",
    "    traingenerator,\n",
    "    steps_per_epoch=int((1-val)*(len(corpus)-inputtokens+1)/batchsize),\n",
    "    validation_data=valgenerator,\n",
    "    validation_steps=int(val*(len(corpus)-inputtokens+1)/batchsize),\n",
    "    epochs=maxepochs,\n",
    "    verbose=2,\n",
    "    callbacks=callbacks\n",
    ")"
   ]
  }
 ],
 "metadata": {
  "kernelspec": {
   "display_name": "Python 3",
   "language": "python",
   "name": "python3"
  },
  "language_info": {
   "codemirror_mode": {
    "name": "ipython",
    "version": 3
   },
   "file_extension": ".py",
   "mimetype": "text/x-python",
   "name": "python",
   "nbconvert_exporter": "python",
   "pygments_lexer": "ipython3",
   "version": "3.6.0"
  }
 },
 "nbformat": 4,
 "nbformat_minor": 2
}
