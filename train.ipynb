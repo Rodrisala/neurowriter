{
 "cells": [
  {
   "cell_type": "markdown",
   "metadata": {},
   "source": [
    "# Text generation test using dilated convolutional networks"
   ]
  },
  {
   "cell_type": "code",
   "execution_count": 1,
   "metadata": {
    "collapsed": true
   },
   "outputs": [],
   "source": [
    "%matplotlib inline"
   ]
  },
  {
   "cell_type": "markdown",
   "metadata": {},
   "source": [
    "## Global config"
   ]
  },
  {
   "cell_type": "markdown",
   "metadata": {},
   "source": [
    "Name of corpus file (without txt extension)"
   ]
  },
  {
   "cell_type": "code",
   "execution_count": 2,
   "metadata": {
    "collapsed": true
   },
   "outputs": [],
   "source": [
    "corpusname = \"toyseries\""
   ]
  },
  {
   "cell_type": "markdown",
   "metadata": {},
   "source": [
    "Number of past input tokens to use for generation"
   ]
  },
  {
   "cell_type": "code",
   "execution_count": 3,
   "metadata": {
    "collapsed": true
   },
   "outputs": [],
   "source": [
    "inputtokens = 128"
   ]
  },
  {
   "cell_type": "markdown",
   "metadata": {},
   "source": [
    "Network architecture to use"
   ]
  },
  {
   "cell_type": "code",
   "execution_count": 4,
   "metadata": {
    "collapsed": true
   },
   "outputs": [],
   "source": [
    "architecture = \"wavenet\""
   ]
  },
  {
   "cell_type": "markdown",
   "metadata": {},
   "source": [
    "### Process config"
   ]
  },
  {
   "cell_type": "markdown",
   "metadata": {},
   "source": [
    "Get all relevant file names"
   ]
  },
  {
   "cell_type": "code",
   "execution_count": 5,
   "metadata": {
    "collapsed": true
   },
   "outputs": [],
   "source": [
    "corpusfile = 'corpus/' + corpusname + '.txt'\n",
    "encodername = corpusname + '.enc'\n",
    "modelname = corpusname + '.h5'"
   ]
  },
  {
   "cell_type": "markdown",
   "metadata": {},
   "source": [
    "Obtain model class"
   ]
  },
  {
   "cell_type": "code",
   "execution_count": 6,
   "metadata": {
    "collapsed": false
   },
   "outputs": [
    {
     "name": "stderr",
     "output_type": "stream",
     "text": [
      "Using TensorFlow backend.\n"
     ]
    }
   ],
   "source": [
    "from neurowriter.models import modelbyname\n",
    "modelclass = modelbyname(architecture)"
   ]
  },
  {
   "cell_type": "markdown",
   "metadata": {},
   "source": [
    "## Load corpus"
   ]
  },
  {
   "cell_type": "code",
   "execution_count": 7,
   "metadata": {
    "collapsed": true
   },
   "outputs": [],
   "source": [
    "with open(corpusfile) as f:\n",
    "    corpus = f.read()"
   ]
  },
  {
   "cell_type": "code",
   "execution_count": 8,
   "metadata": {
    "collapsed": false
   },
   "outputs": [
    {
     "data": {
      "text/plain": [
       "'AAAAABBBBB\\nAAAAABBBBB\\nAAAAABBBBB\\nAAAAABBBBB\\nAAAAABBBBB\\nAAAAABBBBB\\nAABBAABBAB\\nAAAAABBBBB\\nAAAAABBBBB\\nAAAAABBBBB\\nAAAAABBBBB\\nABABABABAB\\nAABBAABBAB\\nAAAAABBBBB\\nAAAAABBBBB\\nAAAAABBBBB\\nAAAAABBBBB\\nAAAAABBBBB\\nABABABABAB\\nAAAAABBBBB\\nAAAAABBBBB\\nAAAAABBBBB\\nAAAAABBBBB\\nAAAAABBBBB\\nAAAAABBBBB\\nAAAAABBBBB\\nAAAAABBBBB\\nAAAAABBBBB\\nABABABABAB\\nAABBAABBAB\\nAAAAABBBBB\\nAAAAABBBBB\\nAAAAABBBBB\\nAAAAABBBBB\\nAABBAABBAB\\nAAAAABBBBB\\nAAAAABBBBB\\nAAAAABBBBB\\nAAAAABBBBB\\nAAAAABBBBB\\nAAAAABBBBB\\nAABBAABBAB\\nAAAAABBBBB\\nAAAAABBBBB\\nAAAAABBBBB\\nAAAAABBBBB\\nAAAAABBBBB\\nAAAAABBBBB\\nAAAAABBBBB\\nAAAAABBBBB\\nAAAAABBBBB\\nAABBAABBAB\\nAAAAABBBBB\\nAAAAABBBBB\\nAAAAABBBBB\\nAAAAABBBBB\\nABABABABAB\\nAAAAABBBBB\\nAAAAABBBBB\\nABABABABAB\\nAAAAABBBBB\\nAAAAABBBBB\\nAAAAABBBBB\\nAAAAABBBBB\\nAAAAABBBBB\\nAAAAABBBBB\\nAAAAABBBBB\\nAAAAABBBBB\\nAAAAABBBBB\\nAAAAABBBBB\\nAABBAABBAB\\nAAAAABBBBB\\nAAAAABBBBB\\nAAAAABBBBB\\nAAAAABBBBB\\nAAAAABBBBB\\nAAAAABBBBB\\nAAAAABBBBB\\nAAAAABBBBB\\nAAAAABBBBB\\nAAAAABBBBB\\nAAAAABBBBB\\nAAAAABBBBB\\nAAAAABBBBB\\nAAAAABBBBB\\nAAAAABBBBB\\nAAAAABBBBB\\nAAAAABBBBB\\nAABBAABBAB\\nAAAAABBBBB\\nAAAAABBBBB'"
      ]
     },
     "execution_count": 8,
     "metadata": {},
     "output_type": "execute_result"
    }
   ],
   "source": [
    "corpus[0:min(1000,len(corpus))]"
   ]
  },
  {
   "cell_type": "markdown",
   "metadata": {},
   "source": [
    "## Encoding"
   ]
  },
  {
   "cell_type": "code",
   "execution_count": 9,
   "metadata": {
    "collapsed": false
   },
   "outputs": [
    {
     "name": "stdout",
     "output_type": "stream",
     "text": [
      "Loaded encoder toyseries.enc\n"
     ]
    }
   ],
   "source": [
    "from neurowriter.encoding import Encoder, loadencoding\n",
    "try:\n",
    "    encoder = loadencoding(encodername)\n",
    "    print(\"Loaded encoder\", encodername)\n",
    "except Exception as e:\n",
    "    print(\"Encoder not found, creating new encoder:\", e)\n",
    "    encoder = Encoder(corpus)\n",
    "    encoder.save(encodername)"
   ]
  },
  {
   "cell_type": "markdown",
   "metadata": {},
   "source": [
    "## Model training"
   ]
  },
  {
   "cell_type": "code",
   "execution_count": 10,
   "metadata": {
    "collapsed": false
   },
   "outputs": [
    {
     "name": "stdout",
     "output_type": "stream",
     "text": [
      "Params: [16, 4, 0.60276337607164387, 'rmsprop'] , loss:  0.110360052437\n",
      "Params: [16, 4, 0.43758721126269251, 'adam'] , loss:  0.137304740027\n",
      "Params: [64, 2, 0.79172503808266459, 'rmsprop'] , loss:  0.119559027255\n",
      "Params: [16, 5, 0.071036058197886942, 'sgd'] , loss:  0.933494329453\n",
      "Params: [4, 5, 0.77815675094985048, 'adam'] , loss:  0.393047437072\n",
      "Params: [64, 4, 0.46147936225293185, 'adam'] , loss:  0.132431555539\n",
      "Params: [4, 4, 0.1433532874090464, 'adam'] , loss:  0.186665534973\n",
      "Params: [16, 3, 0.26455561210462697, 'adam'] , loss:  0.11532882601\n",
      "Params: [16, 3, 0.018789800436355142, 'rmsprop'] , loss:  0.114769652486\n",
      "Params: [32, 4, 0.94374807851462417, 'adam'] , loss:  0.195515457541\n",
      "Params: [4, 3, 0.62705474244735326, 'sgd'] , loss:  0.327638313174\n",
      "Params: [16, 1, 0.10238018672952998, 'rmsprop'] , loss:  0.134279228747\n",
      "Params: [16, 4, 0.040324385264373874, 'sgd'] , loss:  0.94091412425\n",
      "Params: [4, 1, 0.0051834445665320805, 'sgd'] , loss:  0.309944465756\n",
      "Params: [16, 4, 0.046557616391647016, 'rmsprop'] , loss:  0.153076712042\n",
      "Best parameters are [16, 4, 0.60276337607164387, 'rmsprop']\n"
     ]
    },
    {
     "ename": "OSError",
     "evalue": "Unable to create file (Unable to open file: name = 'toyseries.h5', errno = 13, error message = 'permission denied', flags = 13, o_flags = 242)",
     "output_type": "error",
     "traceback": [
      "\u001b[0;31m---------------------------------------------------------------------------\u001b[0m",
      "\u001b[0;31mOSError\u001b[0m                                   Traceback (most recent call last)",
      "\u001b[0;32m<ipython-input-10-6b378ec795a3>\u001b[0m in \u001b[0;36m<module>\u001b[0;34m()\u001b[0m\n\u001b[1;32m      2\u001b[0m \u001b[0;34m\u001b[0m\u001b[0m\n\u001b[1;32m      3\u001b[0m \u001b[0mmodel\u001b[0m\u001b[0;34m,\u001b[0m \u001b[0mtrain_history\u001b[0m \u001b[0;34m=\u001b[0m \u001b[0mhypertrain\u001b[0m\u001b[0;34m(\u001b[0m\u001b[0mmodelclass\u001b[0m\u001b[0;34m,\u001b[0m \u001b[0minputtokens\u001b[0m\u001b[0;34m,\u001b[0m \u001b[0mencoder\u001b[0m\u001b[0;34m,\u001b[0m \u001b[0mcorpus\u001b[0m\u001b[0;34m,\u001b[0m \u001b[0mn_calls\u001b[0m\u001b[0;34m=\u001b[0m\u001b[0;36m15\u001b[0m\u001b[0;34m)\u001b[0m\u001b[0;34m\u001b[0m\u001b[0m\n\u001b[0;32m----> 4\u001b[0;31m \u001b[0mmodel\u001b[0m\u001b[0;34m.\u001b[0m\u001b[0msave\u001b[0m\u001b[0;34m(\u001b[0m\u001b[0mmodelname\u001b[0m\u001b[0;34m)\u001b[0m\u001b[0;34m\u001b[0m\u001b[0m\n\u001b[0m",
      "\u001b[0;32m/home/alvaro/anaconda3/lib/python3.6/site-packages/keras/engine/topology.py\u001b[0m in \u001b[0;36msave\u001b[0;34m(self, filepath, overwrite)\u001b[0m\n\u001b[1;32m   2427\u001b[0m         \"\"\"\n\u001b[1;32m   2428\u001b[0m         \u001b[0;32mfrom\u001b[0m \u001b[0;34m.\u001b[0m\u001b[0;34m.\u001b[0m\u001b[0mmodels\u001b[0m \u001b[0;32mimport\u001b[0m \u001b[0msave_model\u001b[0m\u001b[0;34m\u001b[0m\u001b[0m\n\u001b[0;32m-> 2429\u001b[0;31m         \u001b[0msave_model\u001b[0m\u001b[0;34m(\u001b[0m\u001b[0mself\u001b[0m\u001b[0;34m,\u001b[0m \u001b[0mfilepath\u001b[0m\u001b[0;34m,\u001b[0m \u001b[0moverwrite\u001b[0m\u001b[0;34m)\u001b[0m\u001b[0;34m\u001b[0m\u001b[0m\n\u001b[0m\u001b[1;32m   2430\u001b[0m \u001b[0;34m\u001b[0m\u001b[0m\n\u001b[1;32m   2431\u001b[0m     \u001b[0;32mdef\u001b[0m \u001b[0msave_weights\u001b[0m\u001b[0;34m(\u001b[0m\u001b[0mself\u001b[0m\u001b[0;34m,\u001b[0m \u001b[0mfilepath\u001b[0m\u001b[0;34m,\u001b[0m \u001b[0moverwrite\u001b[0m\u001b[0;34m=\u001b[0m\u001b[0;32mTrue\u001b[0m\u001b[0;34m)\u001b[0m\u001b[0;34m:\u001b[0m\u001b[0;34m\u001b[0m\u001b[0m\n",
      "\u001b[0;32m/home/alvaro/anaconda3/lib/python3.6/site-packages/keras/models.py\u001b[0m in \u001b[0;36msave_model\u001b[0;34m(model, filepath, overwrite)\u001b[0m\n\u001b[1;32m     94\u001b[0m             \u001b[0;32mreturn\u001b[0m\u001b[0;34m\u001b[0m\u001b[0m\n\u001b[1;32m     95\u001b[0m \u001b[0;34m\u001b[0m\u001b[0m\n\u001b[0;32m---> 96\u001b[0;31m     \u001b[0mf\u001b[0m \u001b[0;34m=\u001b[0m \u001b[0mh5py\u001b[0m\u001b[0;34m.\u001b[0m\u001b[0mFile\u001b[0m\u001b[0;34m(\u001b[0m\u001b[0mfilepath\u001b[0m\u001b[0;34m,\u001b[0m \u001b[0;34m'w'\u001b[0m\u001b[0;34m)\u001b[0m\u001b[0;34m\u001b[0m\u001b[0m\n\u001b[0m\u001b[1;32m     97\u001b[0m     \u001b[0mf\u001b[0m\u001b[0;34m.\u001b[0m\u001b[0mattrs\u001b[0m\u001b[0;34m[\u001b[0m\u001b[0;34m'keras_version'\u001b[0m\u001b[0;34m]\u001b[0m \u001b[0;34m=\u001b[0m \u001b[0mstr\u001b[0m\u001b[0;34m(\u001b[0m\u001b[0mkeras_version\u001b[0m\u001b[0;34m)\u001b[0m\u001b[0;34m.\u001b[0m\u001b[0mencode\u001b[0m\u001b[0;34m(\u001b[0m\u001b[0;34m'utf8'\u001b[0m\u001b[0;34m)\u001b[0m\u001b[0;34m\u001b[0m\u001b[0m\n\u001b[1;32m     98\u001b[0m     \u001b[0mf\u001b[0m\u001b[0;34m.\u001b[0m\u001b[0mattrs\u001b[0m\u001b[0;34m[\u001b[0m\u001b[0;34m'backend'\u001b[0m\u001b[0;34m]\u001b[0m \u001b[0;34m=\u001b[0m \u001b[0mK\u001b[0m\u001b[0;34m.\u001b[0m\u001b[0mbackend\u001b[0m\u001b[0;34m(\u001b[0m\u001b[0;34m)\u001b[0m\u001b[0;34m.\u001b[0m\u001b[0mencode\u001b[0m\u001b[0;34m(\u001b[0m\u001b[0;34m'utf8'\u001b[0m\u001b[0;34m)\u001b[0m\u001b[0;34m\u001b[0m\u001b[0m\n",
      "\u001b[0;32m/home/alvaro/anaconda3/lib/python3.6/site-packages/h5py/_hl/files.py\u001b[0m in \u001b[0;36m__init__\u001b[0;34m(self, name, mode, driver, libver, userblock_size, swmr, **kwds)\u001b[0m\n\u001b[1;32m    269\u001b[0m \u001b[0;34m\u001b[0m\u001b[0m\n\u001b[1;32m    270\u001b[0m                 \u001b[0mfapl\u001b[0m \u001b[0;34m=\u001b[0m \u001b[0mmake_fapl\u001b[0m\u001b[0;34m(\u001b[0m\u001b[0mdriver\u001b[0m\u001b[0;34m,\u001b[0m \u001b[0mlibver\u001b[0m\u001b[0;34m,\u001b[0m \u001b[0;34m**\u001b[0m\u001b[0mkwds\u001b[0m\u001b[0;34m)\u001b[0m\u001b[0;34m\u001b[0m\u001b[0m\n\u001b[0;32m--> 271\u001b[0;31m                 \u001b[0mfid\u001b[0m \u001b[0;34m=\u001b[0m \u001b[0mmake_fid\u001b[0m\u001b[0;34m(\u001b[0m\u001b[0mname\u001b[0m\u001b[0;34m,\u001b[0m \u001b[0mmode\u001b[0m\u001b[0;34m,\u001b[0m \u001b[0muserblock_size\u001b[0m\u001b[0;34m,\u001b[0m \u001b[0mfapl\u001b[0m\u001b[0;34m,\u001b[0m \u001b[0mswmr\u001b[0m\u001b[0;34m=\u001b[0m\u001b[0mswmr\u001b[0m\u001b[0;34m)\u001b[0m\u001b[0;34m\u001b[0m\u001b[0m\n\u001b[0m\u001b[1;32m    272\u001b[0m \u001b[0;34m\u001b[0m\u001b[0m\n\u001b[1;32m    273\u001b[0m                 \u001b[0;32mif\u001b[0m \u001b[0mswmr_support\u001b[0m\u001b[0;34m:\u001b[0m\u001b[0;34m\u001b[0m\u001b[0m\n",
      "\u001b[0;32m/home/alvaro/anaconda3/lib/python3.6/site-packages/h5py/_hl/files.py\u001b[0m in \u001b[0;36mmake_fid\u001b[0;34m(name, mode, userblock_size, fapl, fcpl, swmr)\u001b[0m\n\u001b[1;32m    105\u001b[0m         \u001b[0mfid\u001b[0m \u001b[0;34m=\u001b[0m \u001b[0mh5f\u001b[0m\u001b[0;34m.\u001b[0m\u001b[0mcreate\u001b[0m\u001b[0;34m(\u001b[0m\u001b[0mname\u001b[0m\u001b[0;34m,\u001b[0m \u001b[0mh5f\u001b[0m\u001b[0;34m.\u001b[0m\u001b[0mACC_EXCL\u001b[0m\u001b[0;34m,\u001b[0m \u001b[0mfapl\u001b[0m\u001b[0;34m=\u001b[0m\u001b[0mfapl\u001b[0m\u001b[0;34m,\u001b[0m \u001b[0mfcpl\u001b[0m\u001b[0;34m=\u001b[0m\u001b[0mfcpl\u001b[0m\u001b[0;34m)\u001b[0m\u001b[0;34m\u001b[0m\u001b[0m\n\u001b[1;32m    106\u001b[0m     \u001b[0;32melif\u001b[0m \u001b[0mmode\u001b[0m \u001b[0;34m==\u001b[0m \u001b[0;34m'w'\u001b[0m\u001b[0;34m:\u001b[0m\u001b[0;34m\u001b[0m\u001b[0m\n\u001b[0;32m--> 107\u001b[0;31m         \u001b[0mfid\u001b[0m \u001b[0;34m=\u001b[0m \u001b[0mh5f\u001b[0m\u001b[0;34m.\u001b[0m\u001b[0mcreate\u001b[0m\u001b[0;34m(\u001b[0m\u001b[0mname\u001b[0m\u001b[0;34m,\u001b[0m \u001b[0mh5f\u001b[0m\u001b[0;34m.\u001b[0m\u001b[0mACC_TRUNC\u001b[0m\u001b[0;34m,\u001b[0m \u001b[0mfapl\u001b[0m\u001b[0;34m=\u001b[0m\u001b[0mfapl\u001b[0m\u001b[0;34m,\u001b[0m \u001b[0mfcpl\u001b[0m\u001b[0;34m=\u001b[0m\u001b[0mfcpl\u001b[0m\u001b[0;34m)\u001b[0m\u001b[0;34m\u001b[0m\u001b[0m\n\u001b[0m\u001b[1;32m    108\u001b[0m     \u001b[0;32melif\u001b[0m \u001b[0mmode\u001b[0m \u001b[0;34m==\u001b[0m \u001b[0;34m'a'\u001b[0m\u001b[0;34m:\u001b[0m\u001b[0;34m\u001b[0m\u001b[0m\n\u001b[1;32m    109\u001b[0m         \u001b[0;31m# Open in append mode (read/write).\u001b[0m\u001b[0;34m\u001b[0m\u001b[0;34m\u001b[0m\u001b[0m\n",
      "\u001b[0;32mh5py/_objects.pyx\u001b[0m in \u001b[0;36mh5py._objects.with_phil.wrapper (/home/ilan/minonda/conda-bld/h5py_1490028290543/work/h5py/_objects.c:2846)\u001b[0;34m()\u001b[0m\n",
      "\u001b[0;32mh5py/_objects.pyx\u001b[0m in \u001b[0;36mh5py._objects.with_phil.wrapper (/home/ilan/minonda/conda-bld/h5py_1490028290543/work/h5py/_objects.c:2804)\u001b[0;34m()\u001b[0m\n",
      "\u001b[0;32mh5py/h5f.pyx\u001b[0m in \u001b[0;36mh5py.h5f.create (/home/ilan/minonda/conda-bld/h5py_1490028290543/work/h5py/h5f.c:2290)\u001b[0;34m()\u001b[0m\n",
      "\u001b[0;31mOSError\u001b[0m: Unable to create file (Unable to open file: name = 'toyseries.h5', errno = 13, error message = 'permission denied', flags = 13, o_flags = 242)"
     ]
    },
    {
     "data": {
      "image/png": "[encoded data removed]",
      "text/plain": [
       "<matplotlib.figure.Figure at 0x7f8185faeef0>"
      ]
     },
     "metadata": {},
     "output_type": "display_data"
    }
   ],
   "source": [
    "from neurowriter.optimizer import hypertrain\n",
    "\n",
    "model, train_history = hypertrain(modelclass, inputtokens, encoder, corpus, n_calls=15)\n",
    "model.save(modelname)"
   ]
  },
  {
   "cell_type": "markdown",
   "metadata": {},
   "source": [
    "## Generation test"
   ]
  },
  {
   "cell_type": "code",
   "execution_count": 11,
   "metadata": {
    "collapsed": false
   },
   "outputs": [
    {
     "name": "stdout",
     "output_type": "stream",
     "text": [
      "AAAAABBBBB\n",
      "AAAAABBBBB\n",
      "AAAAABBBBB\n",
      "AAAAABBBBB\n",
      "AAAAABBBBB\n",
      "AAAAABBBBB\n",
      "AABBAABBAB\n",
      "AAAAABBBBB\n",
      "AAAAABBBBB\n",
      "AAAAABBBBB\n",
      "AAAAABBBBB\n",
      "ABABABA\n"
     ]
    },
    {
     "data": {
      "text/plain": [
       "'BAB\\nAAAAABBBBB\\nAAAAABBBBB\\nAAAAABBBBB\\nAAAAABBBBB\\nAAAAABBBBB\\nAAAAABBBBB\\nAAAAABBBBB\\nAAAAABBBBB\\nAAAAABBBBB\\nAAAAABBBBB\\nAAAAABBBBB\\nAAAAABBBBB\\nAAAAABBBBB\\nAAAAABBBBB\\nAAAAABBBBB\\nAAAAABBBBB\\nAAAAABBBBB\\nAAAAABBBBB\\nAAAAABBBBB\\nAAAAABBBBB\\nAAAAABBBBB\\nAAAAABBBBB\\nAAAAABBBBB\\nAAAAABBBBB\\nAAAAABBBBB\\nAAAAABBBBB\\nAAAAABBBBB\\nAAAAABBBBB\\nAAAAABBBBB\\nAAAAABBBBB\\nAAAAABBBBB\\nAAAAABBBBB\\nAAAAABBBBB\\nAAAAABBBBB\\nAAAAABBBBB\\nAAAAABBBBB\\nAAAAABBBBB\\nAAAAABBBBB\\nAAAAABBBBB\\nAAAAABBBBB\\nAAAAABBBBB\\nAAAAABBBBB\\nAAAAABBBBB\\nAAAAABBBBB\\nAAAAABBBBB\\nAAAAABBBBB\\nAAAAABBBBB\\nAAAAABBBBB\\nAAAAABBBBB\\nAAAAABBBBB\\nAAAAABBBBB\\nAAAAABBBBB\\nAAAAABBBBB\\nAAAAABBBBB\\nAAAAABBBBB\\nAAAAABBBBB\\nAAAAABBBBB\\nAAAAABBBBB\\nAAAAABBBBB\\nAAAAABBBBB\\nAAAAABBBBB\\nAAAAABBBBB\\nAAAAABBBBB\\nAAAAABBBBB\\nAAAAABBBBB\\nAAAAABBBBB\\nAAAAABBBBB\\nAAAAABBBBB\\nAAAAABBBBB\\nAAAAABBBBB\\nAAAAABBBBB\\nAAAAABBBBB\\nAAAAABBBBB\\nAAAAABBBBB\\nAAAAABBBBB\\nAAAAABBBBB\\nAAAAABBBBB\\nAAAAABBBBB\\nAAAAABBBBB\\nAAAAABBBBB\\nAAAAABBBBB\\nAAAAABBBBB\\nAAAAABBBBB\\nAAAAABBBBB\\nAAAAABBBBB\\nAAAAABBBBB\\nAAAAABBBBB\\nAAAAABBBBB\\nAAAAABBBBB\\nAAAAABBBBB\\nAAAAAB'"
      ]
     },
     "execution_count": 11,
     "metadata": {},
     "output_type": "execute_result"
    }
   ],
   "source": [
    "from neurowriter.writer import Writer\n",
    "\n",
    "writer = Writer(model, encoder, creativity=0.1)\n",
    "print(corpus[:inputtokens])\n",
    "''.join(writer.write(seed=corpus[:inputtokens]))"
   ]
  },
  {
   "cell_type": "markdown",
   "metadata": {
    "collapsed": true
   },
   "source": [
    "### Manual test generation test with 0 creativity"
   ]
  },
  {
   "cell_type": "code",
   "execution_count": 12,
   "metadata": {
    "collapsed": false
   },
   "outputs": [
    {
     "name": "stdout",
     "output_type": "stream",
     "text": [
      "Seed: AAAAABBBBB\n",
      "AAAAABBBBB\n",
      "AAAAABBBBB\n",
      "AAAAABBBBB\n",
      "AAAAABBBBB\n",
      "AAAAABBBBB\n",
      "AABBAABBAB\n",
      "AAAAABBBBB\n",
      "AAAAABBBBB\n",
      "AAAAABBBBB\n",
      "AAAAABBBBB\n",
      "ABABABA\n",
      "Generated\n",
      "AAAAABBBBB\n",
      "AAAAABBBBB\n",
      "AAAAABBBBB\n",
      "AAAAABBBBB\n",
      "AAAAABBBBB\n",
      "AAAAABBBBB\n",
      "AABBAABBAB\n",
      "AAAAABBBBB\n",
      "AAAAABBBBB\n",
      "AAAAABBBBB\n",
      "AAAAABBBBB\n",
      "ABABABABAB\n",
      "AAAAABBBBB\n",
      "AAAAABBBBB\n",
      "AAAAABBBBB\n",
      "AAAAABBBBB\n",
      "AAAAABBBBB\n",
      "AAAAABBBBB\n",
      "AAAAABBBBB\n",
      "AAAAABBBBB\n",
      "AAAAABBBBB\n",
      "AAAAABBBBB\n",
      "AAAAABBBBB\n",
      "AAAAABBBBB\n",
      "AAAAABBBBB\n",
      "AAAAABBBBB\n",
      "AAAAABBBBB\n",
      "AAAAABBBBB\n",
      "AAAAABBBBB\n",
      "AAAAABBBBB\n",
      "AAAAABBBBB\n",
      "AAAAABBBBB\n",
      "AAAAABBBBB\n",
      "AAAAABBBBB\n",
      "AAAAABBBBB\n",
      "AAAAABBBBB\n",
      "AAAAABBBBB\n",
      "AAAAABBBBB\n",
      "AAAAABBBBB\n",
      "AAAAABBBBB\n",
      "AAAAABBBBB\n",
      "AAAAABBBBB\n",
      "AAAAABBBBB\n",
      "AAAAABBBBB\n",
      "AAAAABBBBB\n",
      "AAAAABBBBB\n",
      "AAAAABBBBB\n",
      "AAAAABBBBB\n",
      "AAAAABBBBB\n",
      "AAAAABBBBB\n",
      "AAAAABBBBB\n",
      "AAAAABBBBB\n",
      "AAAAABBBBB\n",
      "AAAAABBBBB\n",
      "AAAAABBBBB\n",
      "AAAAABBBBB\n",
      "AAAAABBBBB\n",
      "AAAAABBBBB\n",
      "AAAAABBBBB\n",
      "AAAAABBBBB\n",
      "AAAAABBBBB\n",
      "AAAAABBBBB\n",
      "AAAAABBBBB\n",
      "AAAAABBBBB\n",
      "AAAAABBBBB\n",
      "AAAAABBBBB\n",
      "AAAAABBBBB\n",
      "AAAAABBBBB\n",
      "AAAAABBBBB\n",
      "AAAAABBBBB\n",
      "AAAAABBBBB\n",
      "AAAAABBBBB\n",
      "AAAAABBBBB\n",
      "AAAAABBBBB\n",
      "AAAAABBBBB\n",
      "AAAAABBBBB\n",
      "AAAAABBBBB\n",
      "AAAAABBBBB\n",
      "AAAAABBBBB\n",
      "AAAAABBBBB\n",
      "AAAAABBBBB\n",
      "AAAAABBBBB\n",
      "AAAAABBBBB\n",
      "AAAAABBBBB\n",
      "AAAAABBBBB\n",
      "AAAAABBBBB\n",
      "AAAAABBBBB\n",
      "AAAAABBBBB\n",
      "AAAAABBBBB\n",
      "AAAAABBBBB\n",
      "AAAAABBBBB\n",
      "AAAAABBBBB\n",
      "AAAAABBBBB\n",
      "AAAAABBBBB\n",
      "AAAAABBBBB\n",
      "AAAAABBBBB\n",
      "AAAAABBBBB\n",
      "AAAAABBBBB\n",
      "AAAAABBBBB\n",
      "AAAAABBBBB\n",
      "AAAAABBBBB\n",
      "AAAAABBBBB\n",
      "AAAAAB"
     ]
    }
   ],
   "source": [
    "import numpy as np\n",
    "seed = corpus[:inputtokens]\n",
    "print(\"Seed:\", seed)\n",
    "print(\"Generated\")\n",
    "print(seed, end='')\n",
    "for i in range(1000):\n",
    "    seedcoded = encoder.encodetext(seed)\n",
    "    #cls = model.predict_classes(np.array([seedcoded]), verbose=0)\n",
    "    #char = encoder.index2char[cls[0]]\n",
    "    cls = np.argmax(model.predict(np.array([seedcoded])))\n",
    "    char = encoder.index2char[cls]\n",
    "    print(char, end='')\n",
    "    seed = seed[1:] + char"
   ]
  },
  {
   "cell_type": "markdown",
   "metadata": {
    "collapsed": true
   },
   "source": [
    "## Possible improvements"
   ]
  },
  {
   "cell_type": "markdown",
   "metadata": {},
   "source": [
    "* Try training with SGD and the full pecera corpus for a large number of iterations\n",
    "\n",
    "From Facebook's convolutional translation paper\n",
    "* Tokens are dealt with embeddings instead of one-hot encoder.\n",
    "* The position of each token is also added as a parallel embedding\n",
    "* Dropout for the embeddings and for the input of each convolutional block"
   ]
  },
  {
   "cell_type": "markdown",
   "metadata": {},
   "source": [
    "## References"
   ]
  },
  {
   "cell_type": "markdown",
   "metadata": {},
   "source": [
    "* WaveNet paper: https://arxiv.org/pdf/1609.03499.pdf\n",
    "* A Keras implementation of WaveNet: https://github.com/usernaamee/keras-wavenet/blob/master/simple-generative-model.py\n",
    "* Another one: https://github.com/basveeling/wavenet/blob/master/wavenet.py\n",
    "* Facebook's convolutional translation paper: https://arxiv.org/pdf/1705.03122.pdf"
   ]
  },
  {
   "cell_type": "markdown",
   "metadata": {
    "collapsed": true
   },
   "source": [
    "## Scrapyard"
   ]
  },
  {
   "cell_type": "markdown",
   "metadata": {},
   "source": [
    "def sampletext(logs):\n",
    "    \"\"\"Function that generates some sample text with the model.\n",
    "\n",
    "    Intented to be used as a keras callback\n",
    "    \"\"\"\n",
    "    writer = Writer(model, encoder, creativity=0.1)\n",
    "    print(corpus[:inputtokens])\n",
    "    print(''.join(writer.write(seed=corpus[:inputtokens])))\n",
    "\n",
    "# Build model with input parameters\n",
    "model = modelkind(inputtokens, encoder, *bestparams)\n",
    "# Prepare callbacks\n",
    "callbacks = [\n",
    "    LambdaCallback(on_train_end=sampletext),\n",
    "    ModelCheckpoint(filepath=modelname,save_best_only=True),\n",
    "    EarlyStopping(patience=patience)\n",
    "]\n",
    "# Train model\n",
    "model.fit_generator(\n",
    "    traingenerator,\n",
    "    steps_per_epoch=int((1-val)*(len(corpus)-inputtokens+1)/batchsize),\n",
    "    validation_data=valgenerator,\n",
    "    validation_steps=int(val*(len(corpus)-inputtokens+1)/batchsize),\n",
    "    epochs=maxepochs,\n",
    "    verbose=2,\n",
    "    callbacks=callbacks\n",
    ")"
   ]
  }
 ],
 "metadata": {
  "kernelspec": {
   "display_name": "Python 3",
   "language": "python",
   "name": "python3"
  },
  "language_info": {
   "codemirror_mode": {
    "name": "ipython",
    "version": 3
   },
   "file_extension": ".py",
   "mimetype": "text/x-python",
   "name": "python",
   "nbconvert_exporter": "python",
   "pygments_lexer": "ipython3",
   "version": "3.6.0"
  }
 },
 "nbformat": 4,
 "nbformat_minor": 2
}
